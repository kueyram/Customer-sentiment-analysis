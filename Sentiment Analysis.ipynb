{
 "cells": [
  {
   "cell_type": "markdown",
   "id": "0a07c7e8",
   "metadata": {},
   "source": [
    "#### Customer sentiment analaysis"
   ]
  },
  {
   "cell_type": "code",
   "execution_count": 1,
   "id": "e5121fde",
   "metadata": {},
   "outputs": [],
   "source": [
    "# Importing librairies\n",
    "import pandas as pd\n",
    "import numpy as np\n",
    "import re\n",
    "import nltk\n",
    "from sklearn.model_selection import train_test_split\n",
    "from sklearn.feature_extraction.text import TfidfVectorizer\n",
    "from sklearn.linear_model import LogisticRegression\n",
    "from sklearn.metrics import classification_report, accuracy_score\n",
    "from sklearn.metrics import confusion_matrix\n",
    "from nltk.corpus import stopwords\n",
    "import matplotlib.pyplot as plt\n",
    "import seaborn as sns\n",
    "import streamlit as st"
   ]
  },
  {
   "cell_type": "markdown",
   "id": "faa3d4de",
   "metadata": {},
   "source": [
    "##### Loading the dataset"
   ]
  },
  {
   "cell_type": "code",
   "execution_count": 2,
   "id": "6dc9dc50",
   "metadata": {},
   "outputs": [
    {
     "data": {
      "text/plain": [
       "(10000, 8)"
      ]
     },
     "execution_count": 2,
     "metadata": {},
     "output_type": "execute_result"
    }
   ],
   "source": [
    "# Link to the dataset\n",
    "data_link='https://raw.githubusercontent.com/kueyram/Customer-sentiment-analysis/refs/heads/main/data/restaurant_reviews.csv'\n",
    "\n",
    "# Importing the dataset into pandas\n",
    "reviews_data = pd.read_csv(data_link, sep=',')\n",
    "\n",
    "# Checking the shape of the dataset\n",
    "reviews_data.shape"
   ]
  },
  {
   "cell_type": "code",
   "execution_count": 3,
   "id": "21c4a1c7",
   "metadata": {},
   "outputs": [
    {
     "data": {
      "text/html": [
       "<div>\n",
       "<style scoped>\n",
       "    .dataframe tbody tr th:only-of-type {\n",
       "        vertical-align: middle;\n",
       "    }\n",
       "\n",
       "    .dataframe tbody tr th {\n",
       "        vertical-align: top;\n",
       "    }\n",
       "\n",
       "    .dataframe thead th {\n",
       "        text-align: right;\n",
       "    }\n",
       "</style>\n",
       "<table border=\"1\" class=\"dataframe\">\n",
       "  <thead>\n",
       "    <tr style=\"text-align: right;\">\n",
       "      <th></th>\n",
       "      <th>Restaurant</th>\n",
       "      <th>Reviewer</th>\n",
       "      <th>Review</th>\n",
       "      <th>Rating</th>\n",
       "      <th>Metadata</th>\n",
       "      <th>Time</th>\n",
       "      <th>Pictures</th>\n",
       "      <th>7514</th>\n",
       "    </tr>\n",
       "  </thead>\n",
       "  <tbody>\n",
       "    <tr>\n",
       "      <th>1655</th>\n",
       "      <td>NorFest - The Dhaba</td>\n",
       "      <td>Rubin S Cherian</td>\n",
       "      <td>This has been on my list for a while now, but ...</td>\n",
       "      <td>4</td>\n",
       "      <td>62 Reviews , 516 Followers</td>\n",
       "      <td>9/12/2018 15:09</td>\n",
       "      <td>0</td>\n",
       "      <td>NaN</td>\n",
       "    </tr>\n",
       "    <tr>\n",
       "      <th>5733</th>\n",
       "      <td>Being Hungry</td>\n",
       "      <td>Niranjan Reddy</td>\n",
       "      <td>Good Taste</td>\n",
       "      <td>4</td>\n",
       "      <td>3 Reviews , 1 Follower</td>\n",
       "      <td>9/8/2018 1:59</td>\n",
       "      <td>0</td>\n",
       "      <td>NaN</td>\n",
       "    </tr>\n",
       "    <tr>\n",
       "      <th>9067</th>\n",
       "      <td>Arena Eleven</td>\n",
       "      <td>George B.</td>\n",
       "      <td>Experience at Arena Eleven... Since it’s in SL...</td>\n",
       "      <td>3</td>\n",
       "      <td>173 Reviews , 345 Followers</td>\n",
       "      <td>3/22/2019 23:43</td>\n",
       "      <td>8</td>\n",
       "      <td>NaN</td>\n",
       "    </tr>\n",
       "    <tr>\n",
       "      <th>6782</th>\n",
       "      <td>Yum Yum Tree - The Arabian Food Court</td>\n",
       "      <td>K Rajesh</td>\n",
       "      <td>food was really worst taste.</td>\n",
       "      <td>1</td>\n",
       "      <td>2 Reviews , 1 Follower</td>\n",
       "      <td>7/15/2018 14:45</td>\n",
       "      <td>0</td>\n",
       "      <td>NaN</td>\n",
       "    </tr>\n",
       "    <tr>\n",
       "      <th>5890</th>\n",
       "      <td>Tempteys</td>\n",
       "      <td>Praveen</td>\n",
       "      <td>Good</td>\n",
       "      <td>4</td>\n",
       "      <td>2 Reviews</td>\n",
       "      <td>6/26/2018 21:51</td>\n",
       "      <td>0</td>\n",
       "      <td>NaN</td>\n",
       "    </tr>\n",
       "  </tbody>\n",
       "</table>\n",
       "</div>"
      ],
      "text/plain": [
       "                                 Restaurant         Reviewer  \\\n",
       "1655                    NorFest - The Dhaba  Rubin S Cherian   \n",
       "5733                           Being Hungry   Niranjan Reddy   \n",
       "9067                           Arena Eleven        George B.   \n",
       "6782  Yum Yum Tree - The Arabian Food Court         K Rajesh   \n",
       "5890                               Tempteys          Praveen   \n",
       "\n",
       "                                                 Review Rating  \\\n",
       "1655  This has been on my list for a while now, but ...      4   \n",
       "5733                                         Good Taste      4   \n",
       "9067  Experience at Arena Eleven... Since it’s in SL...      3   \n",
       "6782                       food was really worst taste.      1   \n",
       "5890                                               Good      4   \n",
       "\n",
       "                         Metadata             Time  Pictures  7514  \n",
       "1655   62 Reviews , 516 Followers  9/12/2018 15:09         0   NaN  \n",
       "5733       3 Reviews , 1 Follower    9/8/2018 1:59         0   NaN  \n",
       "9067  173 Reviews , 345 Followers  3/22/2019 23:43         8   NaN  \n",
       "6782       2 Reviews , 1 Follower  7/15/2018 14:45         0   NaN  \n",
       "5890                    2 Reviews  6/26/2018 21:51         0   NaN  "
      ]
     },
     "execution_count": 3,
     "metadata": {},
     "output_type": "execute_result"
    }
   ],
   "source": [
    "# Printing random rows from the dataset\n",
    "reviews_data.sample(n=5)"
   ]
  },
  {
   "cell_type": "code",
   "execution_count": 4,
   "id": "b191394c",
   "metadata": {},
   "outputs": [
    {
     "data": {
      "text/plain": [
       "Index(['Restaurant', 'Reviewer', 'Review', 'Rating', 'Metadata', 'Time',\n",
       "       'Pictures', '7514'],\n",
       "      dtype='object')"
      ]
     },
     "execution_count": 4,
     "metadata": {},
     "output_type": "execute_result"
    }
   ],
   "source": [
    "# List of columns\n",
    "reviews_data.columns"
   ]
  },
  {
   "cell_type": "markdown",
   "id": "933cb55e",
   "metadata": {},
   "source": [
    "###### Cleaning the dataset"
   ]
  },
  {
   "cell_type": "raw",
   "id": "7fb0886f",
   "metadata": {},
   "source": [
    "There are some columns we do not need for this project. We are going to remove the reviewer (we do not need the name of the reviewer), the metadata, time, pictures, restaurant (we do not need the name of the restaurant) and the columns names 7514."
   ]
  },
  {
   "cell_type": "code",
   "execution_count": 5,
   "id": "3eba799e",
   "metadata": {},
   "outputs": [
    {
     "data": {
      "text/html": [
       "<div>\n",
       "<style scoped>\n",
       "    .dataframe tbody tr th:only-of-type {\n",
       "        vertical-align: middle;\n",
       "    }\n",
       "\n",
       "    .dataframe tbody tr th {\n",
       "        vertical-align: top;\n",
       "    }\n",
       "\n",
       "    .dataframe thead th {\n",
       "        text-align: right;\n",
       "    }\n",
       "</style>\n",
       "<table border=\"1\" class=\"dataframe\">\n",
       "  <thead>\n",
       "    <tr style=\"text-align: right;\">\n",
       "      <th></th>\n",
       "      <th>Review</th>\n",
       "      <th>Rating</th>\n",
       "    </tr>\n",
       "  </thead>\n",
       "  <tbody>\n",
       "    <tr>\n",
       "      <th>0</th>\n",
       "      <td>The ambience was good, food was quite good . h...</td>\n",
       "      <td>5</td>\n",
       "    </tr>\n",
       "    <tr>\n",
       "      <th>1</th>\n",
       "      <td>Ambience is too good for a pleasant evening. S...</td>\n",
       "      <td>5</td>\n",
       "    </tr>\n",
       "    <tr>\n",
       "      <th>2</th>\n",
       "      <td>A must try.. great food great ambience. Thnx f...</td>\n",
       "      <td>5</td>\n",
       "    </tr>\n",
       "    <tr>\n",
       "      <th>3</th>\n",
       "      <td>Soumen das and Arun was a great guy. Only beca...</td>\n",
       "      <td>5</td>\n",
       "    </tr>\n",
       "    <tr>\n",
       "      <th>4</th>\n",
       "      <td>Food is good.we ordered Kodi drumsticks and ba...</td>\n",
       "      <td>5</td>\n",
       "    </tr>\n",
       "  </tbody>\n",
       "</table>\n",
       "</div>"
      ],
      "text/plain": [
       "                                              Review Rating\n",
       "0  The ambience was good, food was quite good . h...      5\n",
       "1  Ambience is too good for a pleasant evening. S...      5\n",
       "2  A must try.. great food great ambience. Thnx f...      5\n",
       "3  Soumen das and Arun was a great guy. Only beca...      5\n",
       "4  Food is good.we ordered Kodi drumsticks and ba...      5"
      ]
     },
     "execution_count": 5,
     "metadata": {},
     "output_type": "execute_result"
    }
   ],
   "source": [
    "# Dropping not needed columns\n",
    "reviews_data = reviews_data.drop(columns = ['Reviewer', 'Metadata', 'Time', 'Pictures', 'Restaurant','7514'])\n",
    "\n",
    "# Printing the 5 first rows\n",
    "reviews_data.head(5)"
   ]
  },
  {
   "cell_type": "code",
   "execution_count": 6,
   "id": "0fa004c0",
   "metadata": {},
   "outputs": [],
   "source": [
    "# Function to clean the dataset\n",
    "# We are going to remove special characters, whitespaces, stopwors and convert to lowercase\n",
    "\n",
    "def clean_text(text):\n",
    "    text = re.sub(r'\\W', ' ', str(text))  # Removing non-word characters\n",
    "    text = re.sub(r'\\s+', ' ', text)  # Removing extra spaces\n",
    "    text = text.lower()  # Converting to lowercase\n",
    "    words = text.split()\n",
    "    \n",
    "    # Remove stopwords\n",
    "    stop_words = set(stopwords.words('english'))\n",
    "    words = [word for word in words if word not in stop_words]\n",
    "    \n",
    "    return ' '.join(words)\n",
    "\n",
    "\n",
    "# Lets apply the cleaning function to the review columns\n",
    "reviews_data['cleaned_review'] = reviews_data['Review'].apply(clean_text)"
   ]
  },
  {
   "cell_type": "markdown",
   "id": "a1fbafdd",
   "metadata": {},
   "source": [
    "##### Target and features"
   ]
  },
  {
   "cell_type": "raw",
   "id": "77c457af",
   "metadata": {},
   "source": [
    "We are going to consider rating greater or equal to 4 as positive and negative otherwise"
   ]
  },
  {
   "cell_type": "code",
   "execution_count": 7,
   "id": "4fe17a4b",
   "metadata": {},
   "outputs": [],
   "source": [
    "# Let's convert rating to numeric\n",
    "reviews_data['Rating'] = pd.to_numeric(reviews_data['Rating'], errors='coerce')\n",
    "\n",
    "# Positive and negative\n",
    "reviews_data['sentiment'] = np.where(reviews_data['Rating'] >= 4, 1, 0)  # 1 = Positive, 0 = Negative"
   ]
  },
  {
   "cell_type": "code",
   "execution_count": 8,
   "id": "d598dfc2",
   "metadata": {},
   "outputs": [],
   "source": [
    "# Features and labels\n",
    "features = reviews_data['cleaned_review']\n",
    "labels = reviews_data['sentiment']"
   ]
  },
  {
   "cell_type": "code",
   "execution_count": 9,
   "id": "439fe1d8",
   "metadata": {},
   "outputs": [],
   "source": [
    "# Splitting the dataset\n",
    "features_train, features_test, labels_train, labels_test = train_test_split(features, labels, test_size=0.2, random_state=42)"
   ]
  },
  {
   "cell_type": "code",
   "execution_count": 10,
   "id": "d0639d5d",
   "metadata": {},
   "outputs": [],
   "source": [
    "# Data transformation\n",
    "# Text data will be transformed into numerical features using TF-IDF\n",
    "tfidf = TfidfVectorizer()\n",
    "features_train_tfidf = tfidf.fit_transform(features_train)\n",
    "features_test_tfidf = tfidf.transform(features_test)"
   ]
  },
  {
   "cell_type": "markdown",
   "id": "84bf907a",
   "metadata": {},
   "source": [
    "##### Logistic regression"
   ]
  },
  {
   "cell_type": "code",
   "execution_count": 11,
   "id": "cbb67a1d",
   "metadata": {},
   "outputs": [
    {
     "data": {
      "text/html": [
       "<style>#sk-container-id-1 {color: black;background-color: white;}#sk-container-id-1 pre{padding: 0;}#sk-container-id-1 div.sk-toggleable {background-color: white;}#sk-container-id-1 label.sk-toggleable__label {cursor: pointer;display: block;width: 100%;margin-bottom: 0;padding: 0.3em;box-sizing: border-box;text-align: center;}#sk-container-id-1 label.sk-toggleable__label-arrow:before {content: \"▸\";float: left;margin-right: 0.25em;color: #696969;}#sk-container-id-1 label.sk-toggleable__label-arrow:hover:before {color: black;}#sk-container-id-1 div.sk-estimator:hover label.sk-toggleable__label-arrow:before {color: black;}#sk-container-id-1 div.sk-toggleable__content {max-height: 0;max-width: 0;overflow: hidden;text-align: left;background-color: #f0f8ff;}#sk-container-id-1 div.sk-toggleable__content pre {margin: 0.2em;color: black;border-radius: 0.25em;background-color: #f0f8ff;}#sk-container-id-1 input.sk-toggleable__control:checked~div.sk-toggleable__content {max-height: 200px;max-width: 100%;overflow: auto;}#sk-container-id-1 input.sk-toggleable__control:checked~label.sk-toggleable__label-arrow:before {content: \"▾\";}#sk-container-id-1 div.sk-estimator input.sk-toggleable__control:checked~label.sk-toggleable__label {background-color: #d4ebff;}#sk-container-id-1 div.sk-label input.sk-toggleable__control:checked~label.sk-toggleable__label {background-color: #d4ebff;}#sk-container-id-1 input.sk-hidden--visually {border: 0;clip: rect(1px 1px 1px 1px);clip: rect(1px, 1px, 1px, 1px);height: 1px;margin: -1px;overflow: hidden;padding: 0;position: absolute;width: 1px;}#sk-container-id-1 div.sk-estimator {font-family: monospace;background-color: #f0f8ff;border: 1px dotted black;border-radius: 0.25em;box-sizing: border-box;margin-bottom: 0.5em;}#sk-container-id-1 div.sk-estimator:hover {background-color: #d4ebff;}#sk-container-id-1 div.sk-parallel-item::after {content: \"\";width: 100%;border-bottom: 1px solid gray;flex-grow: 1;}#sk-container-id-1 div.sk-label:hover label.sk-toggleable__label {background-color: #d4ebff;}#sk-container-id-1 div.sk-serial::before {content: \"\";position: absolute;border-left: 1px solid gray;box-sizing: border-box;top: 0;bottom: 0;left: 50%;z-index: 0;}#sk-container-id-1 div.sk-serial {display: flex;flex-direction: column;align-items: center;background-color: white;padding-right: 0.2em;padding-left: 0.2em;position: relative;}#sk-container-id-1 div.sk-item {position: relative;z-index: 1;}#sk-container-id-1 div.sk-parallel {display: flex;align-items: stretch;justify-content: center;background-color: white;position: relative;}#sk-container-id-1 div.sk-item::before, #sk-container-id-1 div.sk-parallel-item::before {content: \"\";position: absolute;border-left: 1px solid gray;box-sizing: border-box;top: 0;bottom: 0;left: 50%;z-index: -1;}#sk-container-id-1 div.sk-parallel-item {display: flex;flex-direction: column;z-index: 1;position: relative;background-color: white;}#sk-container-id-1 div.sk-parallel-item:first-child::after {align-self: flex-end;width: 50%;}#sk-container-id-1 div.sk-parallel-item:last-child::after {align-self: flex-start;width: 50%;}#sk-container-id-1 div.sk-parallel-item:only-child::after {width: 0;}#sk-container-id-1 div.sk-dashed-wrapped {border: 1px dashed gray;margin: 0 0.4em 0.5em 0.4em;box-sizing: border-box;padding-bottom: 0.4em;background-color: white;}#sk-container-id-1 div.sk-label label {font-family: monospace;font-weight: bold;display: inline-block;line-height: 1.2em;}#sk-container-id-1 div.sk-label-container {text-align: center;}#sk-container-id-1 div.sk-container {/* jupyter's `normalize.less` sets `[hidden] { display: none; }` but bootstrap.min.css set `[hidden] { display: none !important; }` so we also need the `!important` here to be able to override the default hidden behavior on the sphinx rendered scikit-learn.org. See: https://github.com/scikit-learn/scikit-learn/issues/21755 */display: inline-block !important;position: relative;}#sk-container-id-1 div.sk-text-repr-fallback {display: none;}</style><div id=\"sk-container-id-1\" class=\"sk-top-container\"><div class=\"sk-text-repr-fallback\"><pre>LogisticRegression()</pre><b>In a Jupyter environment, please rerun this cell to show the HTML representation or trust the notebook. <br />On GitHub, the HTML representation is unable to render, please try loading this page with nbviewer.org.</b></div><div class=\"sk-container\" hidden><div class=\"sk-item\"><div class=\"sk-estimator sk-toggleable\"><input class=\"sk-toggleable__control sk-hidden--visually\" id=\"sk-estimator-id-1\" type=\"checkbox\" checked><label for=\"sk-estimator-id-1\" class=\"sk-toggleable__label sk-toggleable__label-arrow\">LogisticRegression</label><div class=\"sk-toggleable__content\"><pre>LogisticRegression()</pre></div></div></div></div></div>"
      ],
      "text/plain": [
       "LogisticRegression()"
      ]
     },
     "execution_count": 11,
     "metadata": {},
     "output_type": "execute_result"
    }
   ],
   "source": [
    "# Building a simple logistic regression model\n",
    "model = LogisticRegression()\n",
    "model.fit(features_train_tfidf, labels_train)"
   ]
  },
  {
   "cell_type": "code",
   "execution_count": 12,
   "id": "ed93f479",
   "metadata": {},
   "outputs": [],
   "source": [
    "# Making predictions on the test data\n",
    "labels_pred = model.predict(features_test_tfidf)"
   ]
  },
  {
   "cell_type": "code",
   "execution_count": 13,
   "id": "e47fe7c4",
   "metadata": {},
   "outputs": [
    {
     "name": "stdout",
     "output_type": "stream",
     "text": [
      "Accuracy: 0.8860\n",
      "Classification Report:\n",
      "              precision    recall  f1-score   support\n",
      "\n",
      "           0       0.88      0.80      0.84       736\n",
      "           1       0.89      0.94      0.91      1264\n",
      "\n",
      "    accuracy                           0.89      2000\n",
      "   macro avg       0.89      0.87      0.87      2000\n",
      "weighted avg       0.89      0.89      0.88      2000\n",
      "\n"
     ]
    }
   ],
   "source": [
    "# Evaluating the model\n",
    "accuracy = accuracy_score(labels_test, labels_pred)\n",
    "print(f\"Accuracy: {accuracy:.4f}\")\n",
    "\n",
    "# Print classification report\n",
    "print(\"Classification Report:\")\n",
    "print(classification_report(labels_test, labels_pred))"
   ]
  },
  {
   "cell_type": "raw",
   "id": "e98f11ae",
   "metadata": {},
   "source": [
    "# Interpretation of the results\n",
    "\n",
    "Accuracy: 88.6% – The model correctly predicted the sentiment for 88.6% of the reviews.\n",
    "For Negative Reviews (Class 0):\n",
    "\n",
    "    Precision: 88% – The model correctly identified 88% of the negative reviews.\n",
    "    Recall: 80% – The model missed 20% of the negative reviews.\n",
    "    F1-score: 84% – A balanced measure of precision and recall.\n",
    "\n",
    "For Positive Reviews (Class 1):\n",
    "\n",
    "    Precision: 89% – The model correctly identified 89% of the positive reviews.\n",
    "    Recall: 94% – The model correctly identified 94% of the positive reviews.\n",
    "    F1-score: 91% – A high balance between precision and recall.\n",
    "\n",
    "Macro Average:\n",
    "\n",
    "    F1-score: 87% – Average performance considering both classes equally.\n",
    "\n",
    "Weighted Average:\n",
    "\n",
    "    F1-score: 88% – Performance considering the class distribution, weighted towards positive reviews."
   ]
  },
  {
   "cell_type": "code",
   "execution_count": 14,
   "id": "b2ea76f3",
   "metadata": {},
   "outputs": [
    {
     "name": "stdout",
     "output_type": "stream",
     "text": [
      "Confusion Matrix:\n",
      "[[ 586  150]\n",
      " [  78 1186]]\n"
     ]
    }
   ],
   "source": [
    "# Calculating the confusion matrix\n",
    "conf_matrix = confusion_matrix(labels_test, labels_pred)\n",
    "\n",
    "# Printing the confusion matrix\n",
    "print(\"Confusion Matrix:\")\n",
    "print(conf_matrix)"
   ]
  },
  {
   "cell_type": "code",
   "execution_count": 15,
   "id": "8bdd5009",
   "metadata": {
    "scrolled": true
   },
   "outputs": [
    {
     "data": {
      "image/png": "[encoded data removed]",
      "text/plain": [
       "<Figure size 1000x600 with 1 Axes>"
      ]
     },
     "metadata": {},
     "output_type": "display_data"
    }
   ],
   "source": [
    "# Visualizing the confusion matrix\n",
    "sns.set(style=\"whitegrid\")\n",
    "plt.figure(figsize=(10, 6))\n",
    "sns.heatmap(pd.DataFrame(confusion_matrix(labels_test, labels_pred)), annot=True, cmap=\"Blues\", fmt=\"d\", cbar=False)\n",
    "plt.title(\"Confusion Matrix\")\n",
    "plt.xlabel(\"Predicted\")\n",
    "plt.ylabel(\"Actual\")\n",
    "plt.show()"
   ]
  },
  {
   "cell_type": "raw",
   "id": "a0bd9c4d",
   "metadata": {},
   "source": [
    "# Interpretation\n",
    "- True Negatives (TN): 586 – Negative reviews that the model correctly classified as negative.\n",
    "- False Positives (FP): 150 – Negative reviews that the model incorrectly classified as positive.\n",
    "- False Negatives (FN): 78 – Positive reviews that the model incorrectly classified as negative.\n",
    "- True Positives (TP): 1186 – Positive reviews that the model correctly classified as positive."
   ]
  },
  {
   "cell_type": "code",
   "execution_count": 16,
   "id": "e856f61e",
   "metadata": {},
   "outputs": [],
   "source": [
    "# Function to predict sentiment of a new review\n",
    "def predict_sentiment(review_text):\n",
    "    cleaned_review = clean_text(review_text)\n",
    "    review_tfidf = tfidf.transform([cleaned_review])\n",
    "    prediction = model.predict(review_tfidf)\n",
    "    sentiment = \"Positive\" if prediction[0] == 1 else \"Negative\"\n",
    "    return sentiment"
   ]
  },
  {
   "cell_type": "code",
   "execution_count": 17,
   "id": "ba24e4bf",
   "metadata": {},
   "outputs": [
    {
     "name": "stdout",
     "output_type": "stream",
     "text": [
      "Sentiment: Positive\n"
     ]
    }
   ],
   "source": [
    "# Testing the function\n",
    "new_review1 = \"The food was amazing, and the service was excellent. Highly recommend!\"\n",
    "print(f\"Sentiment: {predict_sentiment(new_review1)}\")"
   ]
  },
  {
   "cell_type": "code",
   "execution_count": 18,
   "id": "54adcdbe",
   "metadata": {},
   "outputs": [
    {
     "name": "stdout",
     "output_type": "stream",
     "text": [
      "Sentiment: Negative\n"
     ]
    }
   ],
   "source": [
    "new_review2 = \"The food was horrible. I was so disappointed\"\n",
    "print(f\"Sentiment: {predict_sentiment(new_review2)}\")"
   ]
  },
  {
   "cell_type": "markdown",
   "id": "0870122f",
   "metadata": {},
   "source": [
    "##### Let's create a web interface using streamlit"
   ]
  },
  {
   "cell_type": "code",
   "execution_count": null,
   "id": "681e3d93",
   "metadata": {},
   "outputs": [],
   "source": [
    "# Setting up the Streamlit interface\n",
    "st.title(\"Customer Sentiment Analysis of Restaurant Reviews\")\n",
    "st.write(\n",
    "    \"Enter a restaurant review to get a sentiment prediction (Positive/Negative).\"\n",
    ")\n",
    "\n",
    "# Input field for the review\n",
    "review_text = st.text_area(\"Enter the Review:\")\n",
    "\n",
    "# Button to trigger the prediction\n",
    "if st.button(\"Predict Sentiment\"):\n",
    "    if review_text:\n",
    "        result = predict_sentiment(review_text)\n",
    "        st.write(f\"The sentiment of the review is: **{result}**\")\n",
    "    else:\n",
    "        st.write(\"Please enter a review.\")"
   ]
  }
 ],
 "metadata": {
  "kernelspec": {
   "display_name": "Python 3 (ipykernel)",
   "language": "python",
   "name": "python3"
  },
  "language_info": {
   "codemirror_mode": {
    "name": "ipython",
    "version": 3
   },
   "file_extension": ".py",
   "mimetype": "text/x-python",
   "name": "python",
   "nbconvert_exporter": "python",
   "pygments_lexer": "ipython3",
   "version": "3.11.7"
  }
 },
 "nbformat": 4,
 "nbformat_minor": 5
}
